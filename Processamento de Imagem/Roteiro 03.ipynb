{
  "nbformat": 4,
  "nbformat_minor": 0,
  "metadata": {
    "colab": {
      "provenance": [],
      "authorship_tag": "ABX9TyPDK1WMJ3gdtmisLGtoVJWd",
      "include_colab_link": true
    },
    "kernelspec": {
      "name": "python3",
      "display_name": "Python 3"
    },
    "language_info": {
      "name": "python"
    }
  },
  "cells": [
    {
      "cell_type": "markdown",
      "metadata": {
        "id": "view-in-github",
        "colab_type": "text"
      },
      "source": [
        "<a href=\"https://colab.research.google.com/github/rlrocha90/CursoVW/blob/main/Processamento%20de%20Imagem/Roteiro%2003.ipynb\" target=\"_parent\"><img src=\"https://colab.research.google.com/assets/colab-badge.svg\" alt=\"Open In Colab\"/></a>"
      ]
    },
    {
      "cell_type": "markdown",
      "source": [
        "# **Roteiro Processamento de Imagens**\n",
        "## Utilizar este Notebook para executar os comandos.\n",
        "**Arquivo de referência:** *Roteiro Processamento de Imagens.docx*"
      ],
      "metadata": {
        "id": "9UXALdpkCHJw"
      }
    },
    {
      "cell_type": "code",
      "source": [],
      "metadata": {
        "id": "2zAqaA4vEzpT"
      },
      "execution_count": null,
      "outputs": []
    }
  ]
}