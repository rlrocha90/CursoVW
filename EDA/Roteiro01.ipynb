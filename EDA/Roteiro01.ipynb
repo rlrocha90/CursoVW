{
  "nbformat": 4,
  "nbformat_minor": 0,
  "metadata": {
    "colab": {
      "provenance": [],
      "authorship_tag": "ABX9TyOyNfgoUi+56WiTrLCeRHvF",
      "include_colab_link": true
    },
    "kernelspec": {
      "name": "python3",
      "display_name": "Python 3"
    },
    "language_info": {
      "name": "python"
    }
  },
  "cells": [
    {
      "cell_type": "markdown",
      "metadata": {
        "id": "view-in-github",
        "colab_type": "text"
      },
      "source": [
        "<a href=\"https://colab.research.google.com/github/rlrocha90/CursoVW/blob/main/EDA/Roteiro01.ipynb\" target=\"_parent\"><img src=\"https://colab.research.google.com/assets/colab-badge.svg\" alt=\"Open In Colab\"/></a>"
      ]
    },
    {
      "cell_type": "code",
      "execution_count": null,
      "metadata": {
        "id": "WFLZH3QdI65z"
      },
      "outputs": [],
      "source": [
        "import pandas as pd"
      ]
    },
    {
      "cell_type": "code",
      "source": [
        "data = 'https://raw.githubusercontent.com/rlrocha90/CursoVW/refs/heads/main/EDA/Auto%20Sales%20data.csv'"
      ],
      "metadata": {
        "id": "0qZ8k5x3-_K_"
      },
      "execution_count": null,
      "outputs": []
    },
    {
      "cell_type": "code",
      "source": [
        "df = pd.read_csv(data, parse_dates=['ORDERDATE'], dayfirst=True)\n",
        "df"
      ],
      "metadata": {
        "id": "2rXeIulq_Xn-"
      },
      "execution_count": null,
      "outputs": []
    },
    {
      "cell_type": "code",
      "source": [
        "a = df['SALES'].to_list()\n",
        "b = df['SALES'].to_numpy()"
      ],
      "metadata": {
        "id": "r4xBNPfbAt-2"
      },
      "execution_count": null,
      "outputs": []
    },
    {
      "cell_type": "code",
      "source": [
        "df.set_index(['ORDERNUMBER'], inplace=True)"
      ],
      "metadata": {
        "id": "PTjZCk5VDTCD"
      },
      "execution_count": null,
      "outputs": []
    },
    {
      "cell_type": "code",
      "source": [
        "df.drop('DAYS_SINCE_LASTORDER', axis=1, inplace=True)"
      ],
      "metadata": {
        "id": "A07xAcTYFKKb"
      },
      "execution_count": null,
      "outputs": []
    },
    {
      "cell_type": "code",
      "source": [
        "from datetime import datetime\n",
        "\n",
        "temp_date = datetime(2025,2,2)\n",
        "df['DAYS_SINCE_ORDERLAST'] = (temp_date - df['ORDERDATE']).dt.days"
      ],
      "metadata": {
        "id": "vpAH1_J6Hs8i"
      },
      "execution_count": null,
      "outputs": []
    },
    {
      "cell_type": "code",
      "source": [
        "df.drop('DAYS_SINCE_LASTORDER', inplace=True, axis=1)"
      ],
      "metadata": {
        "id": "M6KWzcpeI2v7"
      },
      "execution_count": null,
      "outputs": []
    },
    {
      "cell_type": "code",
      "source": [
        "df.info()"
      ],
      "metadata": {
        "id": "8eNvTIraJOYf"
      },
      "execution_count": null,
      "outputs": []
    },
    {
      "cell_type": "code",
      "source": [
        "df.select_dtypes(include=['int64'])"
      ],
      "metadata": {
        "id": "lC6EcrTJKPhp"
      },
      "execution_count": null,
      "outputs": []
    },
    {
      "cell_type": "code",
      "source": [
        "import matplotlib.pyplot as plt\n",
        "\n",
        "df['SELLING_PRICE_DIFF'] = df['PRICEEACH']-df['MSRP']\n",
        "plt.fill_between(df['ORDERDATE'], df['SELLING_PRICE_DIFF'], color='red', where=( df['SELLING_PRICE_DIFF'] < 0))\n",
        "plt.fill_between(df['ORDERDATE'], df['SELLING_PRICE_DIFF'], color='green', where=( df['SELLING_PRICE_DIFF'] >= 0))\n",
        "plt.show()"
      ],
      "metadata": {
        "id": "CIBTH4MSKirY"
      },
      "execution_count": null,
      "outputs": []
    },
    {
      "cell_type": "code",
      "source": [
        "ordenat = df.sort_values('ORDERDATE')\n",
        "\n",
        "\n",
        "df['SELLING_PRICE_DIFF'] = df['PRICEEACH']-df['MSRP']\n",
        "plt.fill_between(ordenat['ORDERDATE'], ordenat['SELLING_PRICE_DIFF'], color='red', where=( ordenat['SELLING_PRICE_DIFF'] < 0))\n",
        "plt.fill_between(ordenat['ORDERDATE'], ordenat['SELLING_PRICE_DIFF'], color='green', where=( ordenat['SELLING_PRICE_DIFF'] >= 0))\n",
        "plt.show()"
      ],
      "metadata": {
        "id": "SAqZ_FTrK1qF"
      },
      "execution_count": null,
      "outputs": []
    }
  ]
}