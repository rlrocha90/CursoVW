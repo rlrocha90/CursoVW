{
  "nbformat": 4,
  "nbformat_minor": 0,
  "metadata": {
    "colab": {
      "provenance": [],
      "authorship_tag": "ABX9TyN8glCoV7xSBkMykwMVNiHt",
      "include_colab_link": true
    },
    "kernelspec": {
      "name": "python3",
      "display_name": "Python 3"
    },
    "language_info": {
      "name": "python"
    }
  },
  "cells": [
    {
      "cell_type": "markdown",
      "metadata": {
        "id": "view-in-github",
        "colab_type": "text"
      },
      "source": [
        "<a href=\"https://colab.research.google.com/github/rlrocha90/CursoVW/blob/main/Modelos%20com%20Imagens/Roteiro%205.ipynb\" target=\"_parent\"><img src=\"https://colab.research.google.com/assets/colab-badge.svg\" alt=\"Open In Colab\"/></a>"
      ]
    },
    {
      "cell_type": "markdown",
      "source": [
        "# **Roteiro Modelo com Imagens**\n",
        "## Utilizar este Notebook para executar os comandos.\n",
        "**Arquivo de referência:** *Roteiro 05.docx*"
      ],
      "metadata": {
        "id": "HU_iGAieIgBr"
      }
    },
    {
      "cell_type": "code",
      "source": [
        "#Começas os comandos aqui!"
      ],
      "metadata": {
        "id": "lKlmAS5aImhS"
      },
      "execution_count": null,
      "outputs": []
    }
  ]
}