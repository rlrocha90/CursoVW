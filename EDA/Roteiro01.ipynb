{
  "nbformat": 4,
  "nbformat_minor": 0,
  "metadata": {
    "colab": {
      "provenance": [],
      "authorship_tag": "ABX9TyNyI44NRgqg1xDUVbW/QmpL",
      "include_colab_link": true
    },
    "kernelspec": {
      "name": "python3",
      "display_name": "Python 3"
    },
    "language_info": {
      "name": "python"
    }
  },
  "cells": [
    {
      "cell_type": "markdown",
      "metadata": {
        "id": "view-in-github",
        "colab_type": "text"
      },
      "source": [
        "<a href=\"https://colab.research.google.com/github/rlrocha90/CursoVW/blob/main/EDA/Roteiro01.ipynb\" target=\"_parent\"><img src=\"https://colab.research.google.com/assets/colab-badge.svg\" alt=\"Open In Colab\"/></a>"
      ]
    },
    {
      "cell_type": "markdown",
      "source": [
        "# **Roteiro EDA**\n",
        "## Utilizar este Notebook para executar os comandos.\n",
        "**Arquivo de referência:** *Roteiro EDA.docx*"
      ],
      "metadata": {
        "id": "9UXALdpkCHJw"
      }
    },
    {
      "cell_type": "code",
      "execution_count": null,
      "metadata": {
        "id": "WFLZH3QdI65z"
      },
      "outputs": [],
      "source": [
        "import pandas as pd"
      ]
    },
    {
      "cell_type": "code",
      "source": [
        "data = 'https://raw.githubusercontent.com/rlrocha90/CursoVW/refs/heads/main/EDA/Auto%20Sales%20data.csv'"
      ],
      "metadata": {
        "id": "0qZ8k5x3-_K_"
      },
      "execution_count": null,
      "outputs": []
    }
  ]
}