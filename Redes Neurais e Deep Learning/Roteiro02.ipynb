{
  "nbformat": 4,
  "nbformat_minor": 0,
  "metadata": {
    "colab": {
      "provenance": [],
      "authorship_tag": "ABX9TyNS5qJudjeeY37U1yuslS3D",
      "include_colab_link": true
    },
    "kernelspec": {
      "name": "python3",
      "display_name": "Python 3"
    },
    "language_info": {
      "name": "python"
    }
  },
  "cells": [
    {
      "cell_type": "markdown",
      "metadata": {
        "id": "view-in-github",
        "colab_type": "text"
      },
      "source": [
        "<a href=\"https://colab.research.google.com/github/rlrocha90/CursoVW/blob/main/Redes%20Neurais%20e%20Deep%20Learning/Roteiro02.ipynb\" target=\"_parent\"><img src=\"https://colab.research.google.com/assets/colab-badge.svg\" alt=\"Open In Colab\"/></a>"
      ]
    },
    {
      "cell_type": "markdown",
      "source": [
        "# **Roteiro Redes Neurais e Deep Learning**\n",
        "## Utilizar este Notebook para executar os comandos.\n",
        "**Arquivo de referência:** *Roteiro Redes Neurais e Deep Learning.docx*"
      ],
      "metadata": {
        "id": "EpW3ho8YOjEU"
      }
    },
    {
      "cell_type": "code",
      "execution_count": null,
      "metadata": {
        "id": "z0QOzUQzOadX"
      },
      "outputs": [],
      "source": [
        "import torch\n",
        "import keras\n",
        "import tensorflow as tf\n",
        "import numpy as np\n",
        "import os\n",
        "import matplotlib.pyplot as plt\n",
        "\n",
        "from tensorflow.keras.models import Sequential\n",
        "from tensorflow.keras.layers import Dense, Input, MaxPool2D, Conv2D, GlobalMaxPool2D, Flatten, Dropout\n",
        "from keras import ops, layers\n",
        "\n",
        "from tensorflow.keras.datasets import mnist"
      ]
    },
    {
      "cell_type": "code",
      "source": [],
      "metadata": {
        "id": "022HKkV2PHC7"
      },
      "execution_count": null,
      "outputs": []
    }
  ]
}